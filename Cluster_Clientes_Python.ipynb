{
 "cells": [
  {
   "cell_type": "markdown",
   "metadata": {},
   "source": [
    "### ANÁLISE DE CLUSTER COM KMEANS EM PYTHON\n",
    "\n",
    "#### CLUSTER NÃO-HIERARQUICO\n",
    "\n",
    "OBJETIVO GERAL: AGRUPAR CLIENTES COM DESEMPENHOS SEMELHANTES\n",
    "\n",
    "IDEIA: REDUZIR A DIMENSÃO DO PROBLEMA, EM VEZ DE ANALISAR 9.000 LINHAS, ANALISAR 3 OU 4 GRUPOS, BUSCANDO FACILITAR O ENTENDIMENTOS DOS DIVERSOS CENÁRIOS\n",
    "\n",
    "SOLUCAO: PARA CADA CENARIO, UMA ESTRATEGIA"
   ]
  },
  {
   "cell_type": "code",
   "execution_count": 1,
   "metadata": {},
   "outputs": [],
   "source": [
    "#imports\n",
    "import pandas as pd\n",
    "import matplotlib.pyplot as plt\n",
    "import numpy as np\n",
    "import seaborn as sns\n",
    "from sklearn.cluster import KMeans\n",
    "from sklearn.preprocessing import MinMaxScaler\n",
    "sns.set_style('whitegrid')"
   ]
  },
  {
   "cell_type": "code",
   "execution_count": 2,
   "metadata": {},
   "outputs": [],
   "source": [
    "#carregando os dados\n",
    "dados  = pd.read_csv('mkt_share.csv',\n",
    "                     sep=';',\n",
    "                     decimal=',',\n",
    "                    names=['cliente',\n",
    "                          'mkt1',\n",
    "                          'mkt2',\n",
    "                          'mkt3',\n",
    "                          'mkt4',\n",
    "                          'mkt5'],\n",
    "                    dtype={'cliente':'str',\n",
    "                          'mkt1':'float',\n",
    "                          'mkt2':'float',\n",
    "                          'mkt3':'float',\n",
    "                          'mkt4':'float',\n",
    "                          'mkt5':'float'})"
   ]
  },
  {
   "cell_type": "code",
   "execution_count": 3,
   "metadata": {},
   "outputs": [
    {
     "data": {
      "text/html": [
       "<div>\n",
       "<style scoped>\n",
       "    .dataframe tbody tr th:only-of-type {\n",
       "        vertical-align: middle;\n",
       "    }\n",
       "\n",
       "    .dataframe tbody tr th {\n",
       "        vertical-align: top;\n",
       "    }\n",
       "\n",
       "    .dataframe thead th {\n",
       "        text-align: right;\n",
       "    }\n",
       "</style>\n",
       "<table border=\"1\" class=\"dataframe\">\n",
       "  <thead>\n",
       "    <tr style=\"text-align: right;\">\n",
       "      <th></th>\n",
       "      <th>cliente</th>\n",
       "      <th>mkt1</th>\n",
       "      <th>mkt2</th>\n",
       "      <th>mkt3</th>\n",
       "      <th>mkt4</th>\n",
       "      <th>mkt5</th>\n",
       "    </tr>\n",
       "  </thead>\n",
       "  <tbody>\n",
       "    <tr>\n",
       "      <th>5537</th>\n",
       "      <td>18136650</td>\n",
       "      <td>0.00</td>\n",
       "      <td>0.00</td>\n",
       "      <td>0.00</td>\n",
       "      <td>0.0</td>\n",
       "      <td>0.00</td>\n",
       "    </tr>\n",
       "    <tr>\n",
       "      <th>1147</th>\n",
       "      <td>6012219</td>\n",
       "      <td>0.67</td>\n",
       "      <td>0.67</td>\n",
       "      <td>0.67</td>\n",
       "      <td>0.0</td>\n",
       "      <td>0.67</td>\n",
       "    </tr>\n",
       "    <tr>\n",
       "      <th>5890</th>\n",
       "      <td>6013719</td>\n",
       "      <td>0.44</td>\n",
       "      <td>0.33</td>\n",
       "      <td>0.67</td>\n",
       "      <td>0.0</td>\n",
       "      <td>0.00</td>\n",
       "    </tr>\n",
       "    <tr>\n",
       "      <th>9019</th>\n",
       "      <td>7027626</td>\n",
       "      <td>0.00</td>\n",
       "      <td>0.00</td>\n",
       "      <td>0.00</td>\n",
       "      <td>0.0</td>\n",
       "      <td>0.00</td>\n",
       "    </tr>\n",
       "    <tr>\n",
       "      <th>4538</th>\n",
       "      <td>18262950</td>\n",
       "      <td>0.67</td>\n",
       "      <td>0.00</td>\n",
       "      <td>0.67</td>\n",
       "      <td>0.0</td>\n",
       "      <td>0.00</td>\n",
       "    </tr>\n",
       "  </tbody>\n",
       "</table>\n",
       "</div>"
      ],
      "text/plain": [
       "       cliente  mkt1  mkt2  mkt3  mkt4  mkt5\n",
       "5537  18136650  0.00  0.00  0.00   0.0  0.00\n",
       "1147   6012219  0.67  0.67  0.67   0.0  0.67\n",
       "5890   6013719  0.44  0.33  0.67   0.0  0.00\n",
       "9019   7027626  0.00  0.00  0.00   0.0  0.00\n",
       "4538  18262950  0.67  0.00  0.67   0.0  0.00"
      ]
     },
     "execution_count": 3,
     "metadata": {},
     "output_type": "execute_result"
    }
   ],
   "source": [
    "#trazendo 3 amostras aleatórias para conhecer a estrutura do dataframe\n",
    "dados.sample(5)"
   ]
  },
  {
   "cell_type": "code",
   "execution_count": 4,
   "metadata": {},
   "outputs": [
    {
     "data": {
      "text/plain": [
       "cliente    0\n",
       "mkt1       0\n",
       "mkt2       0\n",
       "mkt3       0\n",
       "mkt4       0\n",
       "mkt5       0\n",
       "dtype: int64"
      ]
     },
     "execution_count": 4,
     "metadata": {},
     "output_type": "execute_result"
    }
   ],
   "source": [
    "#validando se não existem dados faltantes\n",
    "dados.isnull().sum()"
   ]
  },
  {
   "cell_type": "code",
   "execution_count": 5,
   "metadata": {},
   "outputs": [],
   "source": [
    "#transformando a coluna cliente em índice\n",
    "dados.set_index('cliente',\n",
    "               inplace=True)"
   ]
  },
  {
   "cell_type": "code",
   "execution_count": 6,
   "metadata": {},
   "outputs": [
    {
     "data": {
      "text/html": [
       "<div>\n",
       "<style scoped>\n",
       "    .dataframe tbody tr th:only-of-type {\n",
       "        vertical-align: middle;\n",
       "    }\n",
       "\n",
       "    .dataframe tbody tr th {\n",
       "        vertical-align: top;\n",
       "    }\n",
       "\n",
       "    .dataframe thead th {\n",
       "        text-align: right;\n",
       "    }\n",
       "</style>\n",
       "<table border=\"1\" class=\"dataframe\">\n",
       "  <thead>\n",
       "    <tr style=\"text-align: right;\">\n",
       "      <th></th>\n",
       "      <th>mkt1</th>\n",
       "      <th>mkt2</th>\n",
       "      <th>mkt3</th>\n",
       "      <th>mkt4</th>\n",
       "      <th>mkt5</th>\n",
       "    </tr>\n",
       "  </thead>\n",
       "  <tbody>\n",
       "    <tr>\n",
       "      <th>count</th>\n",
       "      <td>9068.000000</td>\n",
       "      <td>9068.000000</td>\n",
       "      <td>9068.000000</td>\n",
       "      <td>9068.000000</td>\n",
       "      <td>9068.000000</td>\n",
       "    </tr>\n",
       "    <tr>\n",
       "      <th>mean</th>\n",
       "      <td>0.148047</td>\n",
       "      <td>0.122565</td>\n",
       "      <td>0.152351</td>\n",
       "      <td>0.011715</td>\n",
       "      <td>0.052202</td>\n",
       "    </tr>\n",
       "    <tr>\n",
       "      <th>std</th>\n",
       "      <td>0.254737</td>\n",
       "      <td>0.243106</td>\n",
       "      <td>0.265153</td>\n",
       "      <td>0.085876</td>\n",
       "      <td>0.159228</td>\n",
       "    </tr>\n",
       "    <tr>\n",
       "      <th>min</th>\n",
       "      <td>0.000000</td>\n",
       "      <td>0.000000</td>\n",
       "      <td>0.000000</td>\n",
       "      <td>0.000000</td>\n",
       "      <td>0.000000</td>\n",
       "    </tr>\n",
       "    <tr>\n",
       "      <th>25%</th>\n",
       "      <td>0.000000</td>\n",
       "      <td>0.000000</td>\n",
       "      <td>0.000000</td>\n",
       "      <td>0.000000</td>\n",
       "      <td>0.000000</td>\n",
       "    </tr>\n",
       "    <tr>\n",
       "      <th>50%</th>\n",
       "      <td>0.000000</td>\n",
       "      <td>0.000000</td>\n",
       "      <td>0.000000</td>\n",
       "      <td>0.000000</td>\n",
       "      <td>0.000000</td>\n",
       "    </tr>\n",
       "    <tr>\n",
       "      <th>75%</th>\n",
       "      <td>0.250000</td>\n",
       "      <td>0.000000</td>\n",
       "      <td>0.220000</td>\n",
       "      <td>0.000000</td>\n",
       "      <td>0.000000</td>\n",
       "    </tr>\n",
       "    <tr>\n",
       "      <th>max</th>\n",
       "      <td>0.670000</td>\n",
       "      <td>0.670000</td>\n",
       "      <td>0.670000</td>\n",
       "      <td>0.670000</td>\n",
       "      <td>0.670000</td>\n",
       "    </tr>\n",
       "  </tbody>\n",
       "</table>\n",
       "</div>"
      ],
      "text/plain": [
       "              mkt1         mkt2         mkt3         mkt4         mkt5\n",
       "count  9068.000000  9068.000000  9068.000000  9068.000000  9068.000000\n",
       "mean      0.148047     0.122565     0.152351     0.011715     0.052202\n",
       "std       0.254737     0.243106     0.265153     0.085876     0.159228\n",
       "min       0.000000     0.000000     0.000000     0.000000     0.000000\n",
       "25%       0.000000     0.000000     0.000000     0.000000     0.000000\n",
       "50%       0.000000     0.000000     0.000000     0.000000     0.000000\n",
       "75%       0.250000     0.000000     0.220000     0.000000     0.000000\n",
       "max       0.670000     0.670000     0.670000     0.670000     0.670000"
      ]
     },
     "execution_count": 6,
     "metadata": {},
     "output_type": "execute_result"
    }
   ],
   "source": [
    "#analisando máximos e mínimos\n",
    "dados.describe()"
   ]
  },
  {
   "cell_type": "markdown",
   "metadata": {},
   "source": [
    "Dados variam entre 0 e 0.7 em todas as variáveis"
   ]
  },
  {
   "cell_type": "code",
   "execution_count": 7,
   "metadata": {},
   "outputs": [],
   "source": [
    "#Padronizaçao dos dados\n",
    "metodo = MinMaxScaler()\n",
    "dados_padronizados = pd.DataFrame(metodo.fit_transform(dados), \n",
    "                                  index=dados.index, \n",
    "                                  columns=dados.columns)"
   ]
  },
  {
   "cell_type": "code",
   "execution_count": 8,
   "metadata": {},
   "outputs": [
    {
     "data": {
      "image/png": "[encoded data removed]",
      "text/plain": [
       "<Figure size 720x360 with 1 Axes>"
      ]
     },
     "metadata": {},
     "output_type": "display_data"
    }
   ],
   "source": [
    "#Visualizando o metodo elbow para determinar o número ideal de cluster\n",
    "wcss = []\n",
    "\n",
    "for i in range(1,20):\n",
    "    cluster = KMeans(n_clusters=i)\n",
    "    cluster.fit(dados_padronizados)\n",
    "    wcss.append(cluster.inertia_)\n",
    "    \n",
    "plt.figure(figsize=(10,5))\n",
    "plt.xticks(np.arange(1,21,1))\n",
    "plt.yticks(np.arange(0,5000,200))\n",
    "plt.xlabel('number_cluster')\n",
    "plt.title('The Elbow Method')\n",
    "plt.plot(range(1,20), wcss)\n",
    "plt.show()"
   ]
  },
  {
   "cell_type": "markdown",
   "metadata": {},
   "source": [
    "2 Grupos reduzem bastante a variabilidade intragrupo, porém vamos trabalhar com 3 cluster nesta situação"
   ]
  },
  {
   "cell_type": "code",
   "execution_count": 50,
   "metadata": {},
   "outputs": [
    {
     "data": {
      "text/html": [
       "<div>\n",
       "<style scoped>\n",
       "    .dataframe tbody tr th:only-of-type {\n",
       "        vertical-align: middle;\n",
       "    }\n",
       "\n",
       "    .dataframe tbody tr th {\n",
       "        vertical-align: top;\n",
       "    }\n",
       "\n",
       "    .dataframe thead th {\n",
       "        text-align: right;\n",
       "    }\n",
       "</style>\n",
       "<table border=\"1\" class=\"dataframe\">\n",
       "  <thead>\n",
       "    <tr style=\"text-align: right;\">\n",
       "      <th></th>\n",
       "      <th>mkt1</th>\n",
       "      <th>mkt2</th>\n",
       "      <th>mkt3</th>\n",
       "      <th>mkt4</th>\n",
       "      <th>Quantidade_clientes</th>\n",
       "    </tr>\n",
       "    <tr>\n",
       "      <th>cluster</th>\n",
       "      <th></th>\n",
       "      <th></th>\n",
       "      <th></th>\n",
       "      <th></th>\n",
       "      <th></th>\n",
       "    </tr>\n",
       "  </thead>\n",
       "  <tbody>\n",
       "    <tr>\n",
       "      <th>0</th>\n",
       "      <td>0.005</td>\n",
       "      <td>0.005</td>\n",
       "      <td>0.004</td>\n",
       "      <td>0.001</td>\n",
       "      <td>6667</td>\n",
       "    </tr>\n",
       "    <tr>\n",
       "      <th>1</th>\n",
       "      <td>0.573</td>\n",
       "      <td>0.623</td>\n",
       "      <td>0.558</td>\n",
       "      <td>0.043</td>\n",
       "      <td>1624</td>\n",
       "    </tr>\n",
       "    <tr>\n",
       "      <th>2</th>\n",
       "      <td>0.490</td>\n",
       "      <td>0.088</td>\n",
       "      <td>0.578</td>\n",
       "      <td>0.040</td>\n",
       "      <td>777</td>\n",
       "    </tr>\n",
       "  </tbody>\n",
       "</table>\n",
       "</div>"
      ],
      "text/plain": [
       "          mkt1   mkt2   mkt3   mkt4  Quantidade_clientes\n",
       "cluster                                                 \n",
       "0        0.005  0.005  0.004  0.001                 6667\n",
       "1        0.573  0.623  0.558  0.043                 1624\n",
       "2        0.490  0.088  0.578  0.040                  777"
      ]
     },
     "execution_count": 50,
     "metadata": {},
     "output_type": "execute_result"
    }
   ],
   "source": [
    "#definindo o modelo com 3 cluster\n",
    "modelo = KMeans(n_clusters=3,\n",
    "                init= 'k-means++')\n",
    "#aplicando os dados\n",
    "cluster = modelo.fit_predict(dados_padronizados)\n",
    "\n",
    "#adicionando a coluna cluster no dataframe\n",
    "dados['cluster'] = cluster\n",
    "\n",
    "#agrupando os dados pelo cluster e trazendo o desempenho médio de cada grupo\n",
    "\n",
    "clusters = round(dados.pivot_table(index='cluster', \n",
    "                                   values=['mkt1',\n",
    "                                           'mkt2',\n",
    "                                           'mkt3',\n",
    "                                           'mkt4'],\n",
    "                                   aggfunc='mean'), 3)\n",
    "\n",
    "#adicionando a quantidade de clientes em cada grupo\n",
    "clusters['Quantidade_clientes'] = pd.Series([0,0,0,0])\n",
    "\n",
    "lista = []\n",
    "for i in clusters.index:\n",
    "    lista.append(len(dados[dados['cluster']==i]))\n",
    "    \n",
    "\n",
    "clusters['Quantidade_clientes'] = pd.Series(lista)\n",
    "clusters"
   ]
  },
  {
   "cell_type": "markdown",
   "metadata": {},
   "source": [
    "A ideia do exercício é identificar os diferentes cenários formados pelo conjunto de dados.\n",
    "\n",
    "Concluimos que existe um grupo em que os clientes estão com baixo desempenho em todos os market_share;\n",
    "\n",
    "outro grupo em que estão com índices mais baixos no mkt2 e mkt4, portanto poderiam desenvolver novas oportunidades nessas áreas de atuaçao;\n",
    "\n",
    "outro grupo em que estão com baixo índice somente no mkt4;"
   ]
  },
  {
   "cell_type": "code",
   "execution_count": 52,
   "metadata": {},
   "outputs": [
    {
     "data": {
      "image/png": "[encoded data removed]",
      "text/plain": [
       "<Figure size 720x360 with 1 Axes>"
      ]
     },
     "metadata": {},
     "output_type": "display_data"
    }
   ],
   "source": [
    "plt.figure(figsize=(10,5))\n",
    "plt.title('Distribuição dos Dados')\n",
    "plt.scatter(dados[dados['cluster']==0]['mkt1'].values,\n",
    "            dados[dados['cluster']==0]['mkt2'].values, \n",
    "            label= 'cluster 0')\n",
    "plt.scatter(dados[dados['cluster']==1]['mkt1'].values, \n",
    "            dados[dados['cluster']==1]['mkt2'].values,\n",
    "            label= 'cluster 1')\n",
    "plt.scatter(dados[dados['cluster']==2]['mkt1'].values, \n",
    "            dados[dados['cluster']==2]['mkt2'].values,\n",
    "            label= 'cluster 2')\n",
    "plt.xlabel('mkt1')\n",
    "plt.ylabel('mkt2')\n",
    "plt.legend()\n",
    "plt.show()"
   ]
  },
  {
   "cell_type": "code",
   "execution_count": 10,
   "metadata": {},
   "outputs": [],
   "source": [
    "#criando relatório segmentado de clientes e exportando para excel\n",
    "cluster0 = dados[dados['cluster']==0]\n",
    "cluster0.to_excel('cluster_0.xlsx')\n",
    "\n",
    "cluster1 = dados[dados['cluster']==1]\n",
    "cluster1.to_excel('cluster_1.xlsx')\n",
    "\n",
    "cluster2 = dados[dados['cluster']==2]\n",
    "cluster2.to_excel('cluster_2.xlsx')"
   ]
  }
 ],
 "metadata": {
  "kernelspec": {
   "display_name": "Python 3",
   "language": "python",
   "name": "python3"
  },
  "language_info": {
   "codemirror_mode": {
    "name": "ipython",
    "version": 3
   },
   "file_extension": ".py",
   "mimetype": "text/x-python",
   "name": "python",
   "nbconvert_exporter": "python",
   "pygments_lexer": "ipython3",
   "version": "3.7.6"
  }
 },
 "nbformat": 4,
 "nbformat_minor": 4
}
